{
 "cells": [
  {
   "cell_type": "markdown",
   "id": "1f206432",
   "metadata": {},
   "source": [
    "# import libraries"
   ]
  },
  {
   "cell_type": "code",
   "execution_count": 1,
   "id": "15282767",
   "metadata": {},
   "outputs": [],
   "source": [
    "import pandas as pd\n",
    "import numpy as np\n",
    "import matplotlib.pyplot as plt\n",
    "import seaborn as sns"
   ]
  },
  {
   "cell_type": "markdown",
   "id": "3f61f53b",
   "metadata": {},
   "source": [
    "# Read file"
   ]
  },
  {
   "cell_type": "code",
   "execution_count": 2,
   "id": "5c8def05",
   "metadata": {},
   "outputs": [],
   "source": [
    "data = pd.read_csv(r'./Store Sale.csv')"
   ]
  },
  {
   "cell_type": "code",
   "execution_count": 3,
   "id": "7219c690",
   "metadata": {},
   "outputs": [
    {
     "data": {
      "text/html": [
       "<div>\n",
       "<style scoped>\n",
       "    .dataframe tbody tr th:only-of-type {\n",
       "        vertical-align: middle;\n",
       "    }\n",
       "\n",
       "    .dataframe tbody tr th {\n",
       "        vertical-align: top;\n",
       "    }\n",
       "\n",
       "    .dataframe thead th {\n",
       "        text-align: right;\n",
       "    }\n",
       "</style>\n",
       "<table border=\"1\" class=\"dataframe\">\n",
       "  <thead>\n",
       "    <tr style=\"text-align: right;\">\n",
       "      <th></th>\n",
       "      <th>Order ID</th>\n",
       "      <th>Order Date</th>\n",
       "      <th>Order Priority</th>\n",
       "      <th>Order Quantity</th>\n",
       "      <th>Sales</th>\n",
       "      <th>Unit Price</th>\n",
       "      <th>Ship Mode</th>\n",
       "      <th>Shipping Cost</th>\n",
       "      <th>Total Cost</th>\n",
       "      <th>Province</th>\n",
       "      <th>Customer Segment</th>\n",
       "      <th>Product Category</th>\n",
       "      <th>Product Sub-Category</th>\n",
       "      <th>Product Container</th>\n",
       "      <th>Ship Date</th>\n",
       "    </tr>\n",
       "  </thead>\n",
       "  <tbody>\n",
       "    <tr>\n",
       "      <th>0</th>\n",
       "      <td>49344</td>\n",
       "      <td>12/30/2012</td>\n",
       "      <td>Low</td>\n",
       "      <td>1</td>\n",
       "      <td>803.33</td>\n",
       "      <td>803.33</td>\n",
       "      <td>Regular Air</td>\n",
       "      <td>24.49</td>\n",
       "      <td>827.82</td>\n",
       "      <td>Saskachewan</td>\n",
       "      <td>Home Office</td>\n",
       "      <td>Office Supplies</td>\n",
       "      <td>Scissors, Rulers and Trimmers</td>\n",
       "      <td>Medium Box</td>\n",
       "      <td>12/30/2012</td>\n",
       "    </tr>\n",
       "    <tr>\n",
       "      <th>1</th>\n",
       "      <td>50950</td>\n",
       "      <td>12/30/2012</td>\n",
       "      <td>Not Specified</td>\n",
       "      <td>6</td>\n",
       "      <td>391.12</td>\n",
       "      <td>65.19</td>\n",
       "      <td>Delivery Truck</td>\n",
       "      <td>30.00</td>\n",
       "      <td>421.12</td>\n",
       "      <td>British Columbia</td>\n",
       "      <td>Corporate</td>\n",
       "      <td>Furniture</td>\n",
       "      <td>Chairs &amp; Chairmats</td>\n",
       "      <td>Jumbo Drum</td>\n",
       "      <td>12/30/2012</td>\n",
       "    </tr>\n",
       "    <tr>\n",
       "      <th>2</th>\n",
       "      <td>49344</td>\n",
       "      <td>12/30/2012</td>\n",
       "      <td>Low</td>\n",
       "      <td>31</td>\n",
       "      <td>672.93</td>\n",
       "      <td>21.71</td>\n",
       "      <td>Regular Air</td>\n",
       "      <td>4.00</td>\n",
       "      <td>676.93</td>\n",
       "      <td>Saskachewan</td>\n",
       "      <td>Home Office</td>\n",
       "      <td>Technology</td>\n",
       "      <td>Computer Peripherals</td>\n",
       "      <td>Small Box</td>\n",
       "      <td>12/30/2012</td>\n",
       "    </tr>\n",
       "    <tr>\n",
       "      <th>3</th>\n",
       "      <td>25542</td>\n",
       "      <td>12/30/2012</td>\n",
       "      <td>Low</td>\n",
       "      <td>37</td>\n",
       "      <td>257.46</td>\n",
       "      <td>6.96</td>\n",
       "      <td>Express Air</td>\n",
       "      <td>4.23</td>\n",
       "      <td>261.69</td>\n",
       "      <td>Ontario</td>\n",
       "      <td>Home Office</td>\n",
       "      <td>Office Supplies</td>\n",
       "      <td>Paper</td>\n",
       "      <td>Wrap Bag</td>\n",
       "      <td>12/30/2012</td>\n",
       "    </tr>\n",
       "    <tr>\n",
       "      <th>4</th>\n",
       "      <td>50950</td>\n",
       "      <td>12/30/2012</td>\n",
       "      <td>Not Specified</td>\n",
       "      <td>35</td>\n",
       "      <td>NaN</td>\n",
       "      <td>12.80</td>\n",
       "      <td>Express Air</td>\n",
       "      <td>4.51</td>\n",
       "      <td>452.61</td>\n",
       "      <td>British Columbia</td>\n",
       "      <td>Corporate</td>\n",
       "      <td>Office Supplies</td>\n",
       "      <td>Storage &amp; Organization</td>\n",
       "      <td>Small Box</td>\n",
       "      <td>12/30/2012</td>\n",
       "    </tr>\n",
       "  </tbody>\n",
       "</table>\n",
       "</div>"
      ],
      "text/plain": [
       "   Order ID  Order Date Order Priority  Order Quantity   Sales  Unit Price  \\\n",
       "0     49344  12/30/2012            Low               1  803.33      803.33   \n",
       "1     50950  12/30/2012  Not Specified               6  391.12       65.19   \n",
       "2     49344  12/30/2012            Low              31  672.93       21.71   \n",
       "3     25542  12/30/2012            Low              37  257.46        6.96   \n",
       "4     50950  12/30/2012  Not Specified              35     NaN       12.80   \n",
       "\n",
       "        Ship Mode  Shipping Cost  Total Cost          Province  \\\n",
       "0     Regular Air          24.49      827.82       Saskachewan   \n",
       "1  Delivery Truck          30.00      421.12  British Columbia   \n",
       "2     Regular Air           4.00      676.93       Saskachewan   \n",
       "3     Express Air           4.23      261.69           Ontario   \n",
       "4     Express Air           4.51      452.61  British Columbia   \n",
       "\n",
       "  Customer Segment Product Category           Product Sub-Category  \\\n",
       "0      Home Office  Office Supplies  Scissors, Rulers and Trimmers   \n",
       "1        Corporate        Furniture             Chairs & Chairmats   \n",
       "2      Home Office       Technology           Computer Peripherals   \n",
       "3      Home Office  Office Supplies                          Paper   \n",
       "4        Corporate  Office Supplies         Storage & Organization   \n",
       "\n",
       "  Product Container   Ship Date  \n",
       "0        Medium Box  12/30/2012  \n",
       "1        Jumbo Drum  12/30/2012  \n",
       "2         Small Box  12/30/2012  \n",
       "3          Wrap Bag  12/30/2012  \n",
       "4         Small Box  12/30/2012  "
      ]
     },
     "execution_count": 3,
     "metadata": {},
     "output_type": "execute_result"
    }
   ],
   "source": [
    "data.head()"
   ]
  },
  {
   "cell_type": "code",
   "execution_count": 4,
   "id": "6f9c80ad",
   "metadata": {},
   "outputs": [
    {
     "data": {
      "text/plain": [
       "Index(['Order ID', 'Order Date', 'Order Priority', 'Order Quantity', 'Sales',\n",
       "       'Unit Price', 'Ship Mode', 'Shipping Cost', 'Total Cost', 'Province',\n",
       "       'Customer Segment', 'Product Category', 'Product Sub-Category',\n",
       "       'Product Container', 'Ship Date'],\n",
       "      dtype='object')"
      ]
     },
     "execution_count": 4,
     "metadata": {},
     "output_type": "execute_result"
    }
   ],
   "source": [
    "data.columns"
   ]
  },
  {
   "cell_type": "code",
   "execution_count": 5,
   "id": "2f8b7a9b",
   "metadata": {
    "scrolled": true
   },
   "outputs": [
    {
     "name": "stdout",
     "output_type": "stream",
     "text": [
      "<class 'pandas.core.frame.DataFrame'>\n",
      "RangeIndex: 8399 entries, 0 to 8398\n",
      "Data columns (total 15 columns):\n",
      " #   Column                Non-Null Count  Dtype  \n",
      "---  ------                --------------  -----  \n",
      " 0   Order ID              8399 non-null   int64  \n",
      " 1   Order Date            8399 non-null   object \n",
      " 2   Order Priority        8399 non-null   object \n",
      " 3   Order Quantity        8399 non-null   int64  \n",
      " 4   Sales                 8389 non-null   float64\n",
      " 5   Unit Price            8399 non-null   float64\n",
      " 6   Ship Mode             8399 non-null   object \n",
      " 7   Shipping Cost         8399 non-null   float64\n",
      " 8   Total Cost            8399 non-null   float64\n",
      " 9   Province              8399 non-null   object \n",
      " 10  Customer Segment      8399 non-null   object \n",
      " 11  Product Category      8399 non-null   object \n",
      " 12  Product Sub-Category  8399 non-null   object \n",
      " 13  Product Container     8399 non-null   object \n",
      " 14  Ship Date             8399 non-null   object \n",
      "dtypes: float64(4), int64(2), object(9)\n",
      "memory usage: 984.4+ KB\n"
     ]
    }
   ],
   "source": [
    "data.info()"
   ]
  },
  {
   "cell_type": "code",
   "execution_count": 6,
   "id": "76347c96",
   "metadata": {},
   "outputs": [
    {
     "data": {
      "text/plain": [
       "Order ID                  int64\n",
       "Order Date               object\n",
       "Order Priority           object\n",
       "Order Quantity            int64\n",
       "Sales                   float64\n",
       "Unit Price              float64\n",
       "Ship Mode                object\n",
       "Shipping Cost           float64\n",
       "Total Cost              float64\n",
       "Province                 object\n",
       "Customer Segment         object\n",
       "Product Category         object\n",
       "Product Sub-Category     object\n",
       "Product Container        object\n",
       "Ship Date                object\n",
       "dtype: object"
      ]
     },
     "execution_count": 6,
     "metadata": {},
     "output_type": "execute_result"
    }
   ],
   "source": [
    "data.dtypes"
   ]
  },
  {
   "cell_type": "code",
   "execution_count": 7,
   "id": "097d64d0",
   "metadata": {},
   "outputs": [
    {
     "data": {
      "text/html": [
       "<div>\n",
       "<style scoped>\n",
       "    .dataframe tbody tr th:only-of-type {\n",
       "        vertical-align: middle;\n",
       "    }\n",
       "\n",
       "    .dataframe tbody tr th {\n",
       "        vertical-align: top;\n",
       "    }\n",
       "\n",
       "    .dataframe thead th {\n",
       "        text-align: right;\n",
       "    }\n",
       "</style>\n",
       "<table border=\"1\" class=\"dataframe\">\n",
       "  <thead>\n",
       "    <tr style=\"text-align: right;\">\n",
       "      <th></th>\n",
       "      <th>Order ID</th>\n",
       "      <th>Order Date</th>\n",
       "      <th>Order Priority</th>\n",
       "      <th>Order Quantity</th>\n",
       "      <th>Sales</th>\n",
       "      <th>Unit Price</th>\n",
       "      <th>Ship Mode</th>\n",
       "      <th>Shipping Cost</th>\n",
       "      <th>Total Cost</th>\n",
       "      <th>Province</th>\n",
       "      <th>Customer Segment</th>\n",
       "      <th>Product Category</th>\n",
       "      <th>Product Sub-Category</th>\n",
       "      <th>Product Container</th>\n",
       "      <th>Ship Date</th>\n",
       "    </tr>\n",
       "  </thead>\n",
       "  <tbody>\n",
       "    <tr>\n",
       "      <th>0</th>\n",
       "      <td>False</td>\n",
       "      <td>False</td>\n",
       "      <td>False</td>\n",
       "      <td>False</td>\n",
       "      <td>False</td>\n",
       "      <td>False</td>\n",
       "      <td>False</td>\n",
       "      <td>False</td>\n",
       "      <td>False</td>\n",
       "      <td>False</td>\n",
       "      <td>False</td>\n",
       "      <td>False</td>\n",
       "      <td>False</td>\n",
       "      <td>False</td>\n",
       "      <td>False</td>\n",
       "    </tr>\n",
       "    <tr>\n",
       "      <th>1</th>\n",
       "      <td>False</td>\n",
       "      <td>False</td>\n",
       "      <td>False</td>\n",
       "      <td>False</td>\n",
       "      <td>False</td>\n",
       "      <td>False</td>\n",
       "      <td>False</td>\n",
       "      <td>False</td>\n",
       "      <td>False</td>\n",
       "      <td>False</td>\n",
       "      <td>False</td>\n",
       "      <td>False</td>\n",
       "      <td>False</td>\n",
       "      <td>False</td>\n",
       "      <td>False</td>\n",
       "    </tr>\n",
       "    <tr>\n",
       "      <th>2</th>\n",
       "      <td>False</td>\n",
       "      <td>False</td>\n",
       "      <td>False</td>\n",
       "      <td>False</td>\n",
       "      <td>False</td>\n",
       "      <td>False</td>\n",
       "      <td>False</td>\n",
       "      <td>False</td>\n",
       "      <td>False</td>\n",
       "      <td>False</td>\n",
       "      <td>False</td>\n",
       "      <td>False</td>\n",
       "      <td>False</td>\n",
       "      <td>False</td>\n",
       "      <td>False</td>\n",
       "    </tr>\n",
       "    <tr>\n",
       "      <th>3</th>\n",
       "      <td>False</td>\n",
       "      <td>False</td>\n",
       "      <td>False</td>\n",
       "      <td>False</td>\n",
       "      <td>False</td>\n",
       "      <td>False</td>\n",
       "      <td>False</td>\n",
       "      <td>False</td>\n",
       "      <td>False</td>\n",
       "      <td>False</td>\n",
       "      <td>False</td>\n",
       "      <td>False</td>\n",
       "      <td>False</td>\n",
       "      <td>False</td>\n",
       "      <td>False</td>\n",
       "    </tr>\n",
       "    <tr>\n",
       "      <th>4</th>\n",
       "      <td>False</td>\n",
       "      <td>False</td>\n",
       "      <td>False</td>\n",
       "      <td>False</td>\n",
       "      <td>True</td>\n",
       "      <td>False</td>\n",
       "      <td>False</td>\n",
       "      <td>False</td>\n",
       "      <td>False</td>\n",
       "      <td>False</td>\n",
       "      <td>False</td>\n",
       "      <td>False</td>\n",
       "      <td>False</td>\n",
       "      <td>False</td>\n",
       "      <td>False</td>\n",
       "    </tr>\n",
       "    <tr>\n",
       "      <th>...</th>\n",
       "      <td>...</td>\n",
       "      <td>...</td>\n",
       "      <td>...</td>\n",
       "      <td>...</td>\n",
       "      <td>...</td>\n",
       "      <td>...</td>\n",
       "      <td>...</td>\n",
       "      <td>...</td>\n",
       "      <td>...</td>\n",
       "      <td>...</td>\n",
       "      <td>...</td>\n",
       "      <td>...</td>\n",
       "      <td>...</td>\n",
       "      <td>...</td>\n",
       "      <td>...</td>\n",
       "    </tr>\n",
       "    <tr>\n",
       "      <th>8394</th>\n",
       "      <td>False</td>\n",
       "      <td>False</td>\n",
       "      <td>False</td>\n",
       "      <td>False</td>\n",
       "      <td>False</td>\n",
       "      <td>False</td>\n",
       "      <td>False</td>\n",
       "      <td>False</td>\n",
       "      <td>False</td>\n",
       "      <td>False</td>\n",
       "      <td>False</td>\n",
       "      <td>False</td>\n",
       "      <td>False</td>\n",
       "      <td>False</td>\n",
       "      <td>False</td>\n",
       "    </tr>\n",
       "    <tr>\n",
       "      <th>8395</th>\n",
       "      <td>False</td>\n",
       "      <td>False</td>\n",
       "      <td>False</td>\n",
       "      <td>False</td>\n",
       "      <td>False</td>\n",
       "      <td>False</td>\n",
       "      <td>False</td>\n",
       "      <td>False</td>\n",
       "      <td>False</td>\n",
       "      <td>False</td>\n",
       "      <td>False</td>\n",
       "      <td>False</td>\n",
       "      <td>False</td>\n",
       "      <td>False</td>\n",
       "      <td>False</td>\n",
       "    </tr>\n",
       "    <tr>\n",
       "      <th>8396</th>\n",
       "      <td>False</td>\n",
       "      <td>False</td>\n",
       "      <td>False</td>\n",
       "      <td>False</td>\n",
       "      <td>False</td>\n",
       "      <td>False</td>\n",
       "      <td>False</td>\n",
       "      <td>False</td>\n",
       "      <td>False</td>\n",
       "      <td>False</td>\n",
       "      <td>False</td>\n",
       "      <td>False</td>\n",
       "      <td>False</td>\n",
       "      <td>False</td>\n",
       "      <td>False</td>\n",
       "    </tr>\n",
       "    <tr>\n",
       "      <th>8397</th>\n",
       "      <td>False</td>\n",
       "      <td>False</td>\n",
       "      <td>False</td>\n",
       "      <td>False</td>\n",
       "      <td>False</td>\n",
       "      <td>False</td>\n",
       "      <td>False</td>\n",
       "      <td>False</td>\n",
       "      <td>False</td>\n",
       "      <td>False</td>\n",
       "      <td>False</td>\n",
       "      <td>False</td>\n",
       "      <td>False</td>\n",
       "      <td>False</td>\n",
       "      <td>False</td>\n",
       "    </tr>\n",
       "    <tr>\n",
       "      <th>8398</th>\n",
       "      <td>False</td>\n",
       "      <td>False</td>\n",
       "      <td>False</td>\n",
       "      <td>False</td>\n",
       "      <td>False</td>\n",
       "      <td>False</td>\n",
       "      <td>False</td>\n",
       "      <td>False</td>\n",
       "      <td>False</td>\n",
       "      <td>False</td>\n",
       "      <td>False</td>\n",
       "      <td>False</td>\n",
       "      <td>False</td>\n",
       "      <td>False</td>\n",
       "      <td>False</td>\n",
       "    </tr>\n",
       "  </tbody>\n",
       "</table>\n",
       "<p>8399 rows × 15 columns</p>\n",
       "</div>"
      ],
      "text/plain": [
       "      Order ID  Order Date  Order Priority  Order Quantity  Sales  Unit Price  \\\n",
       "0        False       False           False           False  False       False   \n",
       "1        False       False           False           False  False       False   \n",
       "2        False       False           False           False  False       False   \n",
       "3        False       False           False           False  False       False   \n",
       "4        False       False           False           False   True       False   \n",
       "...        ...         ...             ...             ...    ...         ...   \n",
       "8394     False       False           False           False  False       False   \n",
       "8395     False       False           False           False  False       False   \n",
       "8396     False       False           False           False  False       False   \n",
       "8397     False       False           False           False  False       False   \n",
       "8398     False       False           False           False  False       False   \n",
       "\n",
       "      Ship Mode  Shipping Cost  Total Cost  Province  Customer Segment  \\\n",
       "0         False          False       False     False             False   \n",
       "1         False          False       False     False             False   \n",
       "2         False          False       False     False             False   \n",
       "3         False          False       False     False             False   \n",
       "4         False          False       False     False             False   \n",
       "...         ...            ...         ...       ...               ...   \n",
       "8394      False          False       False     False             False   \n",
       "8395      False          False       False     False             False   \n",
       "8396      False          False       False     False             False   \n",
       "8397      False          False       False     False             False   \n",
       "8398      False          False       False     False             False   \n",
       "\n",
       "      Product Category  Product Sub-Category  Product Container  Ship Date  \n",
       "0                False                 False              False      False  \n",
       "1                False                 False              False      False  \n",
       "2                False                 False              False      False  \n",
       "3                False                 False              False      False  \n",
       "4                False                 False              False      False  \n",
       "...                ...                   ...                ...        ...  \n",
       "8394             False                 False              False      False  \n",
       "8395             False                 False              False      False  \n",
       "8396             False                 False              False      False  \n",
       "8397             False                 False              False      False  \n",
       "8398             False                 False              False      False  \n",
       "\n",
       "[8399 rows x 15 columns]"
      ]
     },
     "execution_count": 7,
     "metadata": {},
     "output_type": "execute_result"
    }
   ],
   "source": [
    "data.isnull()"
   ]
  },
  {
   "cell_type": "markdown",
   "id": "17731c6b",
   "metadata": {},
   "source": [
    "# Find and remove null values"
   ]
  },
  {
   "cell_type": "code",
   "execution_count": 8,
   "id": "6175dd67",
   "metadata": {},
   "outputs": [
    {
     "data": {
      "text/plain": [
       "Order ID                 0\n",
       "Order Date               0\n",
       "Order Priority           0\n",
       "Order Quantity           0\n",
       "Sales                   10\n",
       "Unit Price               0\n",
       "Ship Mode                0\n",
       "Shipping Cost            0\n",
       "Total Cost               0\n",
       "Province                 0\n",
       "Customer Segment         0\n",
       "Product Category         0\n",
       "Product Sub-Category     0\n",
       "Product Container        0\n",
       "Ship Date                0\n",
       "dtype: int64"
      ]
     },
     "execution_count": 8,
     "metadata": {},
     "output_type": "execute_result"
    }
   ],
   "source": [
    "data.isnull().sum()"
   ]
  },
  {
   "cell_type": "code",
   "execution_count": 9,
   "id": "4601f98d",
   "metadata": {},
   "outputs": [],
   "source": [
    "data.dropna(subset = ['Sales'], inplace=True)"
   ]
  },
  {
   "cell_type": "code",
   "execution_count": 10,
   "id": "5b9c0025",
   "metadata": {},
   "outputs": [
    {
     "data": {
      "text/plain": [
       "0"
      ]
     },
     "execution_count": 10,
     "metadata": {},
     "output_type": "execute_result"
    }
   ],
   "source": [
    "data.Sales.isnull().sum()"
   ]
  },
  {
   "cell_type": "code",
   "execution_count": 11,
   "id": "5f798683",
   "metadata": {},
   "outputs": [],
   "source": [
    "data.drop('Order ID', axis=1, inplace = True)"
   ]
  },
  {
   "cell_type": "code",
   "execution_count": 12,
   "id": "eafac720",
   "metadata": {},
   "outputs": [
    {
     "data": {
      "text/html": [
       "<div>\n",
       "<style scoped>\n",
       "    .dataframe tbody tr th:only-of-type {\n",
       "        vertical-align: middle;\n",
       "    }\n",
       "\n",
       "    .dataframe tbody tr th {\n",
       "        vertical-align: top;\n",
       "    }\n",
       "\n",
       "    .dataframe thead th {\n",
       "        text-align: right;\n",
       "    }\n",
       "</style>\n",
       "<table border=\"1\" class=\"dataframe\">\n",
       "  <thead>\n",
       "    <tr style=\"text-align: right;\">\n",
       "      <th></th>\n",
       "      <th>Order Date</th>\n",
       "      <th>Order Priority</th>\n",
       "      <th>Order Quantity</th>\n",
       "      <th>Sales</th>\n",
       "      <th>Unit Price</th>\n",
       "      <th>Ship Mode</th>\n",
       "      <th>Shipping Cost</th>\n",
       "      <th>Total Cost</th>\n",
       "      <th>Province</th>\n",
       "      <th>Customer Segment</th>\n",
       "      <th>Product Category</th>\n",
       "      <th>Product Sub-Category</th>\n",
       "      <th>Product Container</th>\n",
       "      <th>Ship Date</th>\n",
       "    </tr>\n",
       "  </thead>\n",
       "  <tbody>\n",
       "    <tr>\n",
       "      <th>0</th>\n",
       "      <td>12/30/2012</td>\n",
       "      <td>Low</td>\n",
       "      <td>1</td>\n",
       "      <td>803.33</td>\n",
       "      <td>803.33</td>\n",
       "      <td>Regular Air</td>\n",
       "      <td>24.49</td>\n",
       "      <td>827.82</td>\n",
       "      <td>Saskachewan</td>\n",
       "      <td>Home Office</td>\n",
       "      <td>Office Supplies</td>\n",
       "      <td>Scissors, Rulers and Trimmers</td>\n",
       "      <td>Medium Box</td>\n",
       "      <td>12/30/2012</td>\n",
       "    </tr>\n",
       "    <tr>\n",
       "      <th>1</th>\n",
       "      <td>12/30/2012</td>\n",
       "      <td>Not Specified</td>\n",
       "      <td>6</td>\n",
       "      <td>391.12</td>\n",
       "      <td>65.19</td>\n",
       "      <td>Delivery Truck</td>\n",
       "      <td>30.00</td>\n",
       "      <td>421.12</td>\n",
       "      <td>British Columbia</td>\n",
       "      <td>Corporate</td>\n",
       "      <td>Furniture</td>\n",
       "      <td>Chairs &amp; Chairmats</td>\n",
       "      <td>Jumbo Drum</td>\n",
       "      <td>12/30/2012</td>\n",
       "    </tr>\n",
       "    <tr>\n",
       "      <th>2</th>\n",
       "      <td>12/30/2012</td>\n",
       "      <td>Low</td>\n",
       "      <td>31</td>\n",
       "      <td>672.93</td>\n",
       "      <td>21.71</td>\n",
       "      <td>Regular Air</td>\n",
       "      <td>4.00</td>\n",
       "      <td>676.93</td>\n",
       "      <td>Saskachewan</td>\n",
       "      <td>Home Office</td>\n",
       "      <td>Technology</td>\n",
       "      <td>Computer Peripherals</td>\n",
       "      <td>Small Box</td>\n",
       "      <td>12/30/2012</td>\n",
       "    </tr>\n",
       "    <tr>\n",
       "      <th>3</th>\n",
       "      <td>12/30/2012</td>\n",
       "      <td>Low</td>\n",
       "      <td>37</td>\n",
       "      <td>257.46</td>\n",
       "      <td>6.96</td>\n",
       "      <td>Express Air</td>\n",
       "      <td>4.23</td>\n",
       "      <td>261.69</td>\n",
       "      <td>Ontario</td>\n",
       "      <td>Home Office</td>\n",
       "      <td>Office Supplies</td>\n",
       "      <td>Paper</td>\n",
       "      <td>Wrap Bag</td>\n",
       "      <td>12/30/2012</td>\n",
       "    </tr>\n",
       "    <tr>\n",
       "      <th>5</th>\n",
       "      <td>12/30/2012</td>\n",
       "      <td>Medium</td>\n",
       "      <td>10</td>\n",
       "      <td>14.15</td>\n",
       "      <td>1.42</td>\n",
       "      <td>Regular Air</td>\n",
       "      <td>0.70</td>\n",
       "      <td>14.85</td>\n",
       "      <td>Manitoba</td>\n",
       "      <td>Consumer</td>\n",
       "      <td>Office Supplies</td>\n",
       "      <td>Rubber Bands</td>\n",
       "      <td>Wrap Bag</td>\n",
       "      <td>12/30/2012</td>\n",
       "    </tr>\n",
       "  </tbody>\n",
       "</table>\n",
       "</div>"
      ],
      "text/plain": [
       "   Order Date Order Priority  Order Quantity   Sales  Unit Price  \\\n",
       "0  12/30/2012            Low               1  803.33      803.33   \n",
       "1  12/30/2012  Not Specified               6  391.12       65.19   \n",
       "2  12/30/2012            Low              31  672.93       21.71   \n",
       "3  12/30/2012            Low              37  257.46        6.96   \n",
       "5  12/30/2012         Medium              10   14.15        1.42   \n",
       "\n",
       "        Ship Mode  Shipping Cost  Total Cost          Province  \\\n",
       "0     Regular Air          24.49      827.82       Saskachewan   \n",
       "1  Delivery Truck          30.00      421.12  British Columbia   \n",
       "2     Regular Air           4.00      676.93       Saskachewan   \n",
       "3     Express Air           4.23      261.69           Ontario   \n",
       "5     Regular Air           0.70       14.85          Manitoba   \n",
       "\n",
       "  Customer Segment Product Category           Product Sub-Category  \\\n",
       "0      Home Office  Office Supplies  Scissors, Rulers and Trimmers   \n",
       "1        Corporate        Furniture             Chairs & Chairmats   \n",
       "2      Home Office       Technology           Computer Peripherals   \n",
       "3      Home Office  Office Supplies                          Paper   \n",
       "5         Consumer  Office Supplies                   Rubber Bands   \n",
       "\n",
       "  Product Container   Ship Date  \n",
       "0        Medium Box  12/30/2012  \n",
       "1        Jumbo Drum  12/30/2012  \n",
       "2         Small Box  12/30/2012  \n",
       "3          Wrap Bag  12/30/2012  \n",
       "5          Wrap Bag  12/30/2012  "
      ]
     },
     "execution_count": 12,
     "metadata": {},
     "output_type": "execute_result"
    }
   ],
   "source": [
    "data.head()"
   ]
  },
  {
   "cell_type": "markdown",
   "id": "7f111193",
   "metadata": {},
   "source": [
    "# Descirbe Data"
   ]
  },
  {
   "cell_type": "code",
   "execution_count": 13,
   "id": "fae187d1",
   "metadata": {},
   "outputs": [
    {
     "data": {
      "text/html": [
       "<div>\n",
       "<style scoped>\n",
       "    .dataframe tbody tr th:only-of-type {\n",
       "        vertical-align: middle;\n",
       "    }\n",
       "\n",
       "    .dataframe tbody tr th {\n",
       "        vertical-align: top;\n",
       "    }\n",
       "\n",
       "    .dataframe thead th {\n",
       "        text-align: right;\n",
       "    }\n",
       "</style>\n",
       "<table border=\"1\" class=\"dataframe\">\n",
       "  <thead>\n",
       "    <tr style=\"text-align: right;\">\n",
       "      <th></th>\n",
       "      <th>Order Quantity</th>\n",
       "      <th>Sales</th>\n",
       "      <th>Unit Price</th>\n",
       "      <th>Shipping Cost</th>\n",
       "      <th>Total Cost</th>\n",
       "    </tr>\n",
       "  </thead>\n",
       "  <tbody>\n",
       "    <tr>\n",
       "      <th>count</th>\n",
       "      <td>8389.000000</td>\n",
       "      <td>8389.000000</td>\n",
       "      <td>8389.000000</td>\n",
       "      <td>8389.000000</td>\n",
       "      <td>8389.000000</td>\n",
       "    </tr>\n",
       "    <tr>\n",
       "      <th>mean</th>\n",
       "      <td>25.579092</td>\n",
       "      <td>1777.649243</td>\n",
       "      <td>86.598726</td>\n",
       "      <td>12.844879</td>\n",
       "      <td>1790.494122</td>\n",
       "    </tr>\n",
       "    <tr>\n",
       "      <th>std</th>\n",
       "      <td>14.480080</td>\n",
       "      <td>3586.799572</td>\n",
       "      <td>277.182231</td>\n",
       "      <td>17.265608</td>\n",
       "      <td>3594.337741</td>\n",
       "    </tr>\n",
       "    <tr>\n",
       "      <th>min</th>\n",
       "      <td>1.000000</td>\n",
       "      <td>2.240000</td>\n",
       "      <td>1.100000</td>\n",
       "      <td>0.490000</td>\n",
       "      <td>2.940000</td>\n",
       "    </tr>\n",
       "    <tr>\n",
       "      <th>25%</th>\n",
       "      <td>13.000000</td>\n",
       "      <td>143.670000</td>\n",
       "      <td>6.920000</td>\n",
       "      <td>3.300000</td>\n",
       "      <td>149.390000</td>\n",
       "    </tr>\n",
       "    <tr>\n",
       "      <th>50%</th>\n",
       "      <td>26.000000</td>\n",
       "      <td>450.280000</td>\n",
       "      <td>21.590000</td>\n",
       "      <td>6.120000</td>\n",
       "      <td>459.750000</td>\n",
       "    </tr>\n",
       "    <tr>\n",
       "      <th>75%</th>\n",
       "      <td>38.000000</td>\n",
       "      <td>1711.790000</td>\n",
       "      <td>84.540000</td>\n",
       "      <td>13.990000</td>\n",
       "      <td>1720.860000</td>\n",
       "    </tr>\n",
       "    <tr>\n",
       "      <th>max</th>\n",
       "      <td>50.000000</td>\n",
       "      <td>89061.050000</td>\n",
       "      <td>7122.170000</td>\n",
       "      <td>164.730000</td>\n",
       "      <td>89085.540000</td>\n",
       "    </tr>\n",
       "  </tbody>\n",
       "</table>\n",
       "</div>"
      ],
      "text/plain": [
       "       Order Quantity         Sales   Unit Price  Shipping Cost    Total Cost\n",
       "count     8389.000000   8389.000000  8389.000000    8389.000000   8389.000000\n",
       "mean        25.579092   1777.649243    86.598726      12.844879   1790.494122\n",
       "std         14.480080   3586.799572   277.182231      17.265608   3594.337741\n",
       "min          1.000000      2.240000     1.100000       0.490000      2.940000\n",
       "25%         13.000000    143.670000     6.920000       3.300000    149.390000\n",
       "50%         26.000000    450.280000    21.590000       6.120000    459.750000\n",
       "75%         38.000000   1711.790000    84.540000      13.990000   1720.860000\n",
       "max         50.000000  89061.050000  7122.170000     164.730000  89085.540000"
      ]
     },
     "execution_count": 13,
     "metadata": {},
     "output_type": "execute_result"
    }
   ],
   "source": [
    "data.describe()"
   ]
  },
  {
   "cell_type": "code",
   "execution_count": 14,
   "id": "734d6d98",
   "metadata": {},
   "outputs": [
    {
     "data": {
      "text/plain": [
       "Order Quantity     8389.00\n",
       "Sales             89061.05\n",
       "Unit Price         8389.00\n",
       "Shipping Cost      8389.00\n",
       "Total Cost        89085.54\n",
       "dtype: float64"
      ]
     },
     "execution_count": 14,
     "metadata": {},
     "output_type": "execute_result"
    }
   ],
   "source": [
    "data.describe().max()"
   ]
  },
  {
   "cell_type": "code",
   "execution_count": 15,
   "id": "6d3dbeee",
   "metadata": {},
   "outputs": [
    {
     "data": {
      "text/plain": [
       "dtype('O')"
      ]
     },
     "execution_count": 15,
     "metadata": {},
     "output_type": "execute_result"
    }
   ],
   "source": [
    "data['Order Date'].dtype"
   ]
  },
  {
   "cell_type": "markdown",
   "id": "3f38b941",
   "metadata": {},
   "source": [
    "# Time Series"
   ]
  },
  {
   "cell_type": "code",
   "execution_count": 16,
   "id": "9d814691",
   "metadata": {},
   "outputs": [],
   "source": [
    "data['year'] = pd.DatetimeIndex(data['Order Date']).year"
   ]
  },
  {
   "cell_type": "code",
   "execution_count": 17,
   "id": "b9ae2a0c",
   "metadata": {},
   "outputs": [],
   "source": [
    "data['month'] = pd.DatetimeIndex(data['Order Date']).month_name()"
   ]
  },
  {
   "cell_type": "code",
   "execution_count": 18,
   "id": "4bd9182a",
   "metadata": {},
   "outputs": [
    {
     "data": {
      "text/plain": [
       "Index(['Order Date', 'Order Priority', 'Order Quantity', 'Sales', 'Unit Price',\n",
       "       'Ship Mode', 'Shipping Cost', 'Total Cost', 'Province',\n",
       "       'Customer Segment', 'Product Category', 'Product Sub-Category',\n",
       "       'Product Container', 'Ship Date', 'year', 'month'],\n",
       "      dtype='object')"
      ]
     },
     "execution_count": 18,
     "metadata": {},
     "output_type": "execute_result"
    }
   ],
   "source": [
    "data.columns"
   ]
  },
  {
   "cell_type": "code",
   "execution_count": 19,
   "id": "de6ae6f1",
   "metadata": {},
   "outputs": [
    {
     "data": {
      "text/html": [
       "<div>\n",
       "<style scoped>\n",
       "    .dataframe tbody tr th:only-of-type {\n",
       "        vertical-align: middle;\n",
       "    }\n",
       "\n",
       "    .dataframe tbody tr th {\n",
       "        vertical-align: top;\n",
       "    }\n",
       "\n",
       "    .dataframe thead th {\n",
       "        text-align: right;\n",
       "    }\n",
       "</style>\n",
       "<table border=\"1\" class=\"dataframe\">\n",
       "  <thead>\n",
       "    <tr style=\"text-align: right;\">\n",
       "      <th></th>\n",
       "      <th>Order Date</th>\n",
       "      <th>Order Priority</th>\n",
       "      <th>Order Quantity</th>\n",
       "      <th>Sales</th>\n",
       "      <th>Unit Price</th>\n",
       "      <th>Ship Mode</th>\n",
       "      <th>Shipping Cost</th>\n",
       "      <th>Total Cost</th>\n",
       "      <th>Province</th>\n",
       "      <th>Customer Segment</th>\n",
       "      <th>Product Category</th>\n",
       "      <th>Product Sub-Category</th>\n",
       "      <th>Product Container</th>\n",
       "      <th>Ship Date</th>\n",
       "      <th>year</th>\n",
       "      <th>month</th>\n",
       "    </tr>\n",
       "  </thead>\n",
       "  <tbody>\n",
       "    <tr>\n",
       "      <th>0</th>\n",
       "      <td>12/30/2012</td>\n",
       "      <td>Low</td>\n",
       "      <td>1</td>\n",
       "      <td>803.33</td>\n",
       "      <td>803.33</td>\n",
       "      <td>Regular Air</td>\n",
       "      <td>24.49</td>\n",
       "      <td>827.82</td>\n",
       "      <td>Saskachewan</td>\n",
       "      <td>Home Office</td>\n",
       "      <td>Office Supplies</td>\n",
       "      <td>Scissors, Rulers and Trimmers</td>\n",
       "      <td>Medium Box</td>\n",
       "      <td>12/30/2012</td>\n",
       "      <td>2012</td>\n",
       "      <td>December</td>\n",
       "    </tr>\n",
       "    <tr>\n",
       "      <th>1</th>\n",
       "      <td>12/30/2012</td>\n",
       "      <td>Not Specified</td>\n",
       "      <td>6</td>\n",
       "      <td>391.12</td>\n",
       "      <td>65.19</td>\n",
       "      <td>Delivery Truck</td>\n",
       "      <td>30.00</td>\n",
       "      <td>421.12</td>\n",
       "      <td>British Columbia</td>\n",
       "      <td>Corporate</td>\n",
       "      <td>Furniture</td>\n",
       "      <td>Chairs &amp; Chairmats</td>\n",
       "      <td>Jumbo Drum</td>\n",
       "      <td>12/30/2012</td>\n",
       "      <td>2012</td>\n",
       "      <td>December</td>\n",
       "    </tr>\n",
       "    <tr>\n",
       "      <th>2</th>\n",
       "      <td>12/30/2012</td>\n",
       "      <td>Low</td>\n",
       "      <td>31</td>\n",
       "      <td>672.93</td>\n",
       "      <td>21.71</td>\n",
       "      <td>Regular Air</td>\n",
       "      <td>4.00</td>\n",
       "      <td>676.93</td>\n",
       "      <td>Saskachewan</td>\n",
       "      <td>Home Office</td>\n",
       "      <td>Technology</td>\n",
       "      <td>Computer Peripherals</td>\n",
       "      <td>Small Box</td>\n",
       "      <td>12/30/2012</td>\n",
       "      <td>2012</td>\n",
       "      <td>December</td>\n",
       "    </tr>\n",
       "    <tr>\n",
       "      <th>3</th>\n",
       "      <td>12/30/2012</td>\n",
       "      <td>Low</td>\n",
       "      <td>37</td>\n",
       "      <td>257.46</td>\n",
       "      <td>6.96</td>\n",
       "      <td>Express Air</td>\n",
       "      <td>4.23</td>\n",
       "      <td>261.69</td>\n",
       "      <td>Ontario</td>\n",
       "      <td>Home Office</td>\n",
       "      <td>Office Supplies</td>\n",
       "      <td>Paper</td>\n",
       "      <td>Wrap Bag</td>\n",
       "      <td>12/30/2012</td>\n",
       "      <td>2012</td>\n",
       "      <td>December</td>\n",
       "    </tr>\n",
       "    <tr>\n",
       "      <th>5</th>\n",
       "      <td>12/30/2012</td>\n",
       "      <td>Medium</td>\n",
       "      <td>10</td>\n",
       "      <td>14.15</td>\n",
       "      <td>1.42</td>\n",
       "      <td>Regular Air</td>\n",
       "      <td>0.70</td>\n",
       "      <td>14.85</td>\n",
       "      <td>Manitoba</td>\n",
       "      <td>Consumer</td>\n",
       "      <td>Office Supplies</td>\n",
       "      <td>Rubber Bands</td>\n",
       "      <td>Wrap Bag</td>\n",
       "      <td>12/30/2012</td>\n",
       "      <td>2012</td>\n",
       "      <td>December</td>\n",
       "    </tr>\n",
       "  </tbody>\n",
       "</table>\n",
       "</div>"
      ],
      "text/plain": [
       "   Order Date Order Priority  Order Quantity   Sales  Unit Price  \\\n",
       "0  12/30/2012            Low               1  803.33      803.33   \n",
       "1  12/30/2012  Not Specified               6  391.12       65.19   \n",
       "2  12/30/2012            Low              31  672.93       21.71   \n",
       "3  12/30/2012            Low              37  257.46        6.96   \n",
       "5  12/30/2012         Medium              10   14.15        1.42   \n",
       "\n",
       "        Ship Mode  Shipping Cost  Total Cost          Province  \\\n",
       "0     Regular Air          24.49      827.82       Saskachewan   \n",
       "1  Delivery Truck          30.00      421.12  British Columbia   \n",
       "2     Regular Air           4.00      676.93       Saskachewan   \n",
       "3     Express Air           4.23      261.69           Ontario   \n",
       "5     Regular Air           0.70       14.85          Manitoba   \n",
       "\n",
       "  Customer Segment Product Category           Product Sub-Category  \\\n",
       "0      Home Office  Office Supplies  Scissors, Rulers and Trimmers   \n",
       "1        Corporate        Furniture             Chairs & Chairmats   \n",
       "2      Home Office       Technology           Computer Peripherals   \n",
       "3      Home Office  Office Supplies                          Paper   \n",
       "5         Consumer  Office Supplies                   Rubber Bands   \n",
       "\n",
       "  Product Container   Ship Date  year     month  \n",
       "0        Medium Box  12/30/2012  2012  December  \n",
       "1        Jumbo Drum  12/30/2012  2012  December  \n",
       "2         Small Box  12/30/2012  2012  December  \n",
       "3          Wrap Bag  12/30/2012  2012  December  \n",
       "5          Wrap Bag  12/30/2012  2012  December  "
      ]
     },
     "execution_count": 19,
     "metadata": {},
     "output_type": "execute_result"
    }
   ],
   "source": [
    "\n",
    "data.head()"
   ]
  },
  {
   "cell_type": "markdown",
   "id": "eaef1576",
   "metadata": {},
   "source": [
    "# EDA"
   ]
  },
  {
   "cell_type": "markdown",
   "id": "232e53c6",
   "metadata": {},
   "source": [
    "Q: Find sales of each year"
   ]
  },
  {
   "cell_type": "code",
   "execution_count": 20,
   "id": "7ed40748",
   "metadata": {
    "scrolled": true
   },
   "outputs": [
    {
     "data": {
      "text/html": [
       "<div>\n",
       "<style scoped>\n",
       "    .dataframe tbody tr th:only-of-type {\n",
       "        vertical-align: middle;\n",
       "    }\n",
       "\n",
       "    .dataframe tbody tr th {\n",
       "        vertical-align: top;\n",
       "    }\n",
       "\n",
       "    .dataframe thead th {\n",
       "        text-align: right;\n",
       "    }\n",
       "</style>\n",
       "<table border=\"1\" class=\"dataframe\">\n",
       "  <thead>\n",
       "    <tr style=\"text-align: right;\">\n",
       "      <th></th>\n",
       "      <th>Sales</th>\n",
       "    </tr>\n",
       "    <tr>\n",
       "      <th>year</th>\n",
       "      <th></th>\n",
       "    </tr>\n",
       "  </thead>\n",
       "  <tbody>\n",
       "    <tr>\n",
       "      <th>2009</th>\n",
       "      <td>4209139.47</td>\n",
       "    </tr>\n",
       "    <tr>\n",
       "      <th>2010</th>\n",
       "      <td>3549680.91</td>\n",
       "    </tr>\n",
       "    <tr>\n",
       "      <th>2011</th>\n",
       "      <td>3436816.81</td>\n",
       "    </tr>\n",
       "    <tr>\n",
       "      <th>2012</th>\n",
       "      <td>3717062.31</td>\n",
       "    </tr>\n",
       "  </tbody>\n",
       "</table>\n",
       "</div>"
      ],
      "text/plain": [
       "           Sales\n",
       "year            \n",
       "2009  4209139.47\n",
       "2010  3549680.91\n",
       "2011  3436816.81\n",
       "2012  3717062.31"
      ]
     },
     "execution_count": 20,
     "metadata": {},
     "output_type": "execute_result"
    }
   ],
   "source": [
    "max_sale = data.groupby(['year'])['Sales'].sum()\n",
    "max_sale = max_sale.to_frame()\n",
    "round(max_sale, 2)"
   ]
  },
  {
   "cell_type": "code",
   "execution_count": 21,
   "id": "ec5778c3",
   "metadata": {
    "scrolled": false
   },
   "outputs": [
    {
     "data": {
      "image/png": "[encoded data removed]",
      "text/plain": [
       "<Figure size 842.4x595.44 with 1 Axes>"
      ]
     },
     "metadata": {
      "needs_background": "light"
     },
     "output_type": "display_data"
    }
   ],
   "source": [
    "a4_dims = (11.7, 8.27)\n",
    "fig, ax = plt.subplots(figsize=a4_dims)\n",
    "sns.barplot(x = max_sale.index, y = max_sale['Sales'] , data=max_sale)\n",
    "plt.title(\"year wise Sales\")\n",
    "plt.show()"
   ]
  },
  {
   "cell_type": "markdown",
   "id": "362b3b76",
   "metadata": {},
   "source": [
    "Q: Which province have a highest sale"
   ]
  },
  {
   "cell_type": "code",
   "execution_count": 22,
   "id": "43e5a547",
   "metadata": {
    "scrolled": true
   },
   "outputs": [
    {
     "data": {
      "text/html": [
       "<div>\n",
       "<style scoped>\n",
       "    .dataframe tbody tr th:only-of-type {\n",
       "        vertical-align: middle;\n",
       "    }\n",
       "\n",
       "    .dataframe tbody tr th {\n",
       "        vertical-align: top;\n",
       "    }\n",
       "\n",
       "    .dataframe thead th {\n",
       "        text-align: right;\n",
       "    }\n",
       "</style>\n",
       "<table border=\"1\" class=\"dataframe\">\n",
       "  <thead>\n",
       "    <tr style=\"text-align: right;\">\n",
       "      <th></th>\n",
       "      <th>Sales</th>\n",
       "    </tr>\n",
       "    <tr>\n",
       "      <th>Province</th>\n",
       "      <th></th>\n",
       "    </tr>\n",
       "  </thead>\n",
       "  <tbody>\n",
       "    <tr>\n",
       "      <th>Ontario</th>\n",
       "      <td>3063195.69</td>\n",
       "    </tr>\n",
       "    <tr>\n",
       "      <th>British Columbia</th>\n",
       "      <td>1890414.39</td>\n",
       "    </tr>\n",
       "    <tr>\n",
       "      <th>Alberta</th>\n",
       "      <td>1704566.96</td>\n",
       "    </tr>\n",
       "    <tr>\n",
       "      <th>Quebec</th>\n",
       "      <td>1509970.51</td>\n",
       "    </tr>\n",
       "    <tr>\n",
       "      <th>Saskachewan</th>\n",
       "      <td>1464455.80</td>\n",
       "    </tr>\n",
       "    <tr>\n",
       "      <th>Manitoba</th>\n",
       "      <td>1372848.80</td>\n",
       "    </tr>\n",
       "    <tr>\n",
       "      <th>Yukon</th>\n",
       "      <td>975867.39</td>\n",
       "    </tr>\n",
       "    <tr>\n",
       "      <th>Nova Scotia</th>\n",
       "      <td>817729.37</td>\n",
       "    </tr>\n",
       "    <tr>\n",
       "      <th>Northwest Territories</th>\n",
       "      <td>800847.35</td>\n",
       "    </tr>\n",
       "    <tr>\n",
       "      <th>New Brunswick</th>\n",
       "      <td>684211.51</td>\n",
       "    </tr>\n",
       "    <tr>\n",
       "      <th>Prince Edward Island</th>\n",
       "      <td>409291.19</td>\n",
       "    </tr>\n",
       "    <tr>\n",
       "      <th>Nunavut</th>\n",
       "      <td>116376.47</td>\n",
       "    </tr>\n",
       "    <tr>\n",
       "      <th>Newfoundland</th>\n",
       "      <td>102924.07</td>\n",
       "    </tr>\n",
       "  </tbody>\n",
       "</table>\n",
       "</div>"
      ],
      "text/plain": [
       "                            Sales\n",
       "Province                         \n",
       "Ontario                3063195.69\n",
       "British Columbia       1890414.39\n",
       "Alberta                1704566.96\n",
       "Quebec                 1509970.51\n",
       "Saskachewan            1464455.80\n",
       "Manitoba               1372848.80\n",
       "Yukon                   975867.39\n",
       "Nova Scotia             817729.37\n",
       "Northwest Territories   800847.35\n",
       "New Brunswick           684211.51\n",
       "Prince Edward Island    409291.19\n",
       "Nunavut                 116376.47\n",
       "Newfoundland            102924.07"
      ]
     },
     "execution_count": 22,
     "metadata": {},
     "output_type": "execute_result"
    }
   ],
   "source": [
    "max_sale_province = data.groupby(['Province'])['Sales'].sum().sort_values(ascending=False)\n",
    "max_sale_province = max_sale_province.to_frame()\n",
    "round(max_sale_province, 2)"
   ]
  },
  {
   "cell_type": "code",
   "execution_count": 23,
   "id": "a582a993",
   "metadata": {
    "scrolled": false
   },
   "outputs": [
    {
     "data": {
      "image/png": "[encoded data removed]",
      "text/plain": [
       "<Figure size 842.4x595.44 with 1 Axes>"
      ]
     },
     "metadata": {
      "needs_background": "light"
     },
     "output_type": "display_data"
    }
   ],
   "source": [
    "a4_dims = (11.7, 8.27)\n",
    "fig, ax = plt.subplots(figsize=a4_dims)\n",
    "\n",
    "sns.barplot(x = max_sale_province['Sales'], y = max_sale_province.index , data=max_sale_province)\n",
    "plt.title(\"Province wise Sales\")\n",
    "plt.show()"
   ]
  },
  {
   "cell_type": "markdown",
   "id": "0f0db441",
   "metadata": {},
   "source": [
    "Q: Which Product Category have maximum sale"
   ]
  },
  {
   "cell_type": "code",
   "execution_count": 24,
   "id": "f6bd041d",
   "metadata": {},
   "outputs": [],
   "source": [
    "max_sale_categ = data.groupby('Product Category')['Sales'].sum().sort_values(ascending = False)\n",
    "max_sale_categ = max_sale_categ.to_frame()"
   ]
  },
  {
   "cell_type": "code",
   "execution_count": 25,
   "id": "da75deb1",
   "metadata": {},
   "outputs": [
    {
     "data": {
      "image/png": "[encoded data removed]",
      "text/plain": [
       "<Figure size 842.4x595.44 with 1 Axes>"
      ]
     },
     "metadata": {
      "needs_background": "light"
     },
     "output_type": "display_data"
    }
   ],
   "source": [
    "a4_dims = (11.7, 8.27)\n",
    "fig, ax = plt.subplots(figsize=a4_dims)\n",
    "\n",
    "sns.barplot(x = max_sale_categ['Sales'], y = max_sale_categ.index , data=max_sale_categ)\n",
    "plt.title(\"Category wise Sales\")\n",
    "plt.show()"
   ]
  },
  {
   "cell_type": "markdown",
   "id": "df859239",
   "metadata": {},
   "source": [
    "Q: Which product sub category have a maximum sale"
   ]
  },
  {
   "cell_type": "code",
   "execution_count": 26,
   "id": "c251438a",
   "metadata": {
    "scrolled": true
   },
   "outputs": [
    {
     "data": {
      "text/html": [
       "<div>\n",
       "<style scoped>\n",
       "    .dataframe tbody tr th:only-of-type {\n",
       "        vertical-align: middle;\n",
       "    }\n",
       "\n",
       "    .dataframe tbody tr th {\n",
       "        vertical-align: top;\n",
       "    }\n",
       "\n",
       "    .dataframe thead th {\n",
       "        text-align: right;\n",
       "    }\n",
       "</style>\n",
       "<table border=\"1\" class=\"dataframe\">\n",
       "  <thead>\n",
       "    <tr style=\"text-align: right;\">\n",
       "      <th></th>\n",
       "      <th>Sales</th>\n",
       "    </tr>\n",
       "    <tr>\n",
       "      <th>Product Sub-Category</th>\n",
       "      <th></th>\n",
       "    </tr>\n",
       "  </thead>\n",
       "  <tbody>\n",
       "    <tr>\n",
       "      <th>Office Machines</th>\n",
       "      <td>2168697.14</td>\n",
       "    </tr>\n",
       "    <tr>\n",
       "      <th>Tables</th>\n",
       "      <td>1896008.11</td>\n",
       "    </tr>\n",
       "    <tr>\n",
       "      <th>Telephones and Communication</th>\n",
       "      <td>1889314.12</td>\n",
       "    </tr>\n",
       "    <tr>\n",
       "      <th>Chairs &amp; Chairmats</th>\n",
       "      <td>1761836.55</td>\n",
       "    </tr>\n",
       "    <tr>\n",
       "      <th>Copiers and Fax</th>\n",
       "      <td>1130361.30</td>\n",
       "    </tr>\n",
       "    <tr>\n",
       "      <th>Storage &amp; Organization</th>\n",
       "      <td>1069734.50</td>\n",
       "    </tr>\n",
       "    <tr>\n",
       "      <th>Binders and Binder Accessories</th>\n",
       "      <td>1022913.14</td>\n",
       "    </tr>\n",
       "    <tr>\n",
       "      <th>Bookcases</th>\n",
       "      <td>822652.04</td>\n",
       "    </tr>\n",
       "    <tr>\n",
       "      <th>Computer Peripherals</th>\n",
       "      <td>794760.74</td>\n",
       "    </tr>\n",
       "    <tr>\n",
       "      <th>Appliances</th>\n",
       "      <td>736991.54</td>\n",
       "    </tr>\n",
       "    <tr>\n",
       "      <th>Office Furnishings</th>\n",
       "      <td>697358.11</td>\n",
       "    </tr>\n",
       "    <tr>\n",
       "      <th>Paper</th>\n",
       "      <td>446284.66</td>\n",
       "    </tr>\n",
       "    <tr>\n",
       "      <th>Envelopes</th>\n",
       "      <td>173993.74</td>\n",
       "    </tr>\n",
       "    <tr>\n",
       "      <th>Pens &amp; Art Supplies</th>\n",
       "      <td>167107.22</td>\n",
       "    </tr>\n",
       "    <tr>\n",
       "      <th>Scissors, Rulers and Trimmers</th>\n",
       "      <td>80996.31</td>\n",
       "    </tr>\n",
       "    <tr>\n",
       "      <th>Labels</th>\n",
       "      <td>38683.65</td>\n",
       "    </tr>\n",
       "    <tr>\n",
       "      <th>Rubber Bands</th>\n",
       "      <td>15006.63</td>\n",
       "    </tr>\n",
       "  </tbody>\n",
       "</table>\n",
       "</div>"
      ],
      "text/plain": [
       "                                     Sales\n",
       "Product Sub-Category                      \n",
       "Office Machines                 2168697.14\n",
       "Tables                          1896008.11\n",
       "Telephones and Communication    1889314.12\n",
       "Chairs & Chairmats              1761836.55\n",
       "Copiers and Fax                 1130361.30\n",
       "Storage & Organization          1069734.50\n",
       "Binders and Binder Accessories  1022913.14\n",
       "Bookcases                        822652.04\n",
       "Computer Peripherals             794760.74\n",
       "Appliances                       736991.54\n",
       "Office Furnishings               697358.11\n",
       "Paper                            446284.66\n",
       "Envelopes                        173993.74\n",
       "Pens & Art Supplies              167107.22\n",
       "Scissors, Rulers and Trimmers     80996.31\n",
       "Labels                            38683.65\n",
       "Rubber Bands                      15006.63"
      ]
     },
     "execution_count": 26,
     "metadata": {},
     "output_type": "execute_result"
    }
   ],
   "source": [
    "max_sale_subcateg = data.groupby(['Product Sub-Category'])['Sales'].sum().sort_values(ascending = False)\n",
    "max_sale_subcateg = max_sale_subcateg.to_frame()\n",
    "round(max_sale_subcateg, 2)"
   ]
  },
  {
   "cell_type": "code",
   "execution_count": 27,
   "id": "aff7f41b",
   "metadata": {},
   "outputs": [
    {
     "data": {
      "image/png": "[encoded data removed]",
      "text/plain": [
       "<Figure size 842.4x595.44 with 1 Axes>"
      ]
     },
     "metadata": {
      "needs_background": "light"
     },
     "output_type": "display_data"
    }
   ],
   "source": [
    "a4_dims = (11.7, 8.27)\n",
    "fig, ax = plt.subplots(figsize=a4_dims)\n",
    "\n",
    "sns.barplot(x = max_sale_subcateg['Sales'], y = max_sale_subcateg.index , data=max_sale_subcateg)\n",
    "plt.title(\"sub Category wise Sales\")\n",
    "plt.show()"
   ]
  },
  {
   "cell_type": "markdown",
   "id": "fe3f681b",
   "metadata": {},
   "source": [
    "Filter data according to technology"
   ]
  },
  {
   "cell_type": "code",
   "execution_count": 28,
   "id": "e2356e23",
   "metadata": {},
   "outputs": [],
   "source": [
    "product_filter = data[data['Product Category'] == 'Technology' ]"
   ]
  },
  {
   "cell_type": "code",
   "execution_count": 29,
   "id": "a937f10c",
   "metadata": {},
   "outputs": [
    {
     "data": {
      "text/plain": [
       "Product Sub-Category\n",
       "Office Machines                 2168697.14\n",
       "Telephones and Communication    1889314.12\n",
       "Copiers and Fax                 1130361.30\n",
       "Computer Peripherals             794760.74\n",
       "Name: Sales, dtype: float64"
      ]
     },
     "execution_count": 29,
     "metadata": {},
     "output_type": "execute_result"
    }
   ],
   "source": [
    "filter_subcateg = product_filter.groupby(['Product Sub-Category'])['Sales'].sum().sort_values(ascending = False)\n",
    "round(filter_subcateg, 2)"
   ]
  },
  {
   "cell_type": "code",
   "execution_count": 30,
   "id": "ba932ba1",
   "metadata": {},
   "outputs": [
    {
     "data": {
      "image/png": "[encoded data removed]",
      "text/plain": [
       "<Figure size 842.4x595.44 with 1 Axes>"
      ]
     },
     "metadata": {},
     "output_type": "display_data"
    }
   ],
   "source": [
    "a4_dims = (11.7, 8.27)\n",
    "fig, ax = plt.subplots(figsize=a4_dims)\n",
    "plt.pie(filter_subcateg, labels = filter_subcateg.index)\n",
    "plt.legend()\n",
    "\n",
    "plt.show() "
   ]
  },
  {
   "cell_type": "code",
   "execution_count": 31,
   "id": "f8f57160",
   "metadata": {},
   "outputs": [
    {
     "data": {
      "text/html": [
       "<div>\n",
       "<style scoped>\n",
       "    .dataframe tbody tr th:only-of-type {\n",
       "        vertical-align: middle;\n",
       "    }\n",
       "\n",
       "    .dataframe tbody tr th {\n",
       "        vertical-align: top;\n",
       "    }\n",
       "\n",
       "    .dataframe thead th {\n",
       "        text-align: right;\n",
       "    }\n",
       "</style>\n",
       "<table border=\"1\" class=\"dataframe\">\n",
       "  <thead>\n",
       "    <tr style=\"text-align: right;\">\n",
       "      <th></th>\n",
       "      <th></th>\n",
       "      <th></th>\n",
       "      <th></th>\n",
       "      <th>Sales</th>\n",
       "    </tr>\n",
       "    <tr>\n",
       "      <th>Province</th>\n",
       "      <th>Product Sub-Category</th>\n",
       "      <th>month</th>\n",
       "      <th>year</th>\n",
       "      <th></th>\n",
       "    </tr>\n",
       "  </thead>\n",
       "  <tbody>\n",
       "    <tr>\n",
       "      <th>New Brunswick</th>\n",
       "      <th>Office Machines</th>\n",
       "      <th>March</th>\n",
       "      <th>2009</th>\n",
       "      <td>90628.16</td>\n",
       "    </tr>\n",
       "    <tr>\n",
       "      <th>Alberta</th>\n",
       "      <th>Office Machines</th>\n",
       "      <th>August</th>\n",
       "      <th>2012</th>\n",
       "      <td>55905.01</td>\n",
       "    </tr>\n",
       "    <tr>\n",
       "      <th>Saskachewan</th>\n",
       "      <th>Office Machines</th>\n",
       "      <th>January</th>\n",
       "      <th>2009</th>\n",
       "      <td>50488.16</td>\n",
       "    </tr>\n",
       "    <tr>\n",
       "      <th rowspan=\"2\" valign=\"top\">Quebec</th>\n",
       "      <th>Office Machines</th>\n",
       "      <th>January</th>\n",
       "      <th>2009</th>\n",
       "      <td>45923.76</td>\n",
       "    </tr>\n",
       "    <tr>\n",
       "      <th>Copiers and Fax</th>\n",
       "      <th>December</th>\n",
       "      <th>2009</th>\n",
       "      <td>44288.89</td>\n",
       "    </tr>\n",
       "    <tr>\n",
       "      <th>...</th>\n",
       "      <th>...</th>\n",
       "      <th>...</th>\n",
       "      <th>...</th>\n",
       "      <td>...</td>\n",
       "    </tr>\n",
       "    <tr>\n",
       "      <th>Alberta</th>\n",
       "      <th>Computer Peripherals</th>\n",
       "      <th>April</th>\n",
       "      <th>2011</th>\n",
       "      <td>32.51</td>\n",
       "    </tr>\n",
       "    <tr>\n",
       "      <th>Manitoba</th>\n",
       "      <th>Computer Peripherals</th>\n",
       "      <th>February</th>\n",
       "      <th>2009</th>\n",
       "      <td>25.48</td>\n",
       "    </tr>\n",
       "    <tr>\n",
       "      <th>British Columbia</th>\n",
       "      <th>Office Machines</th>\n",
       "      <th>October</th>\n",
       "      <th>2011</th>\n",
       "      <td>25.07</td>\n",
       "    </tr>\n",
       "    <tr>\n",
       "      <th>Nova Scotia</th>\n",
       "      <th>Computer Peripherals</th>\n",
       "      <th>May</th>\n",
       "      <th>2010</th>\n",
       "      <td>24.96</td>\n",
       "    </tr>\n",
       "    <tr>\n",
       "      <th>New Brunswick</th>\n",
       "      <th>Computer Peripherals</th>\n",
       "      <th>June</th>\n",
       "      <th>2012</th>\n",
       "      <td>17.77</td>\n",
       "    </tr>\n",
       "  </tbody>\n",
       "</table>\n",
       "<p>1064 rows × 1 columns</p>\n",
       "</div>"
      ],
      "text/plain": [
       "                                                        Sales\n",
       "Province         Product Sub-Category month    year          \n",
       "New Brunswick    Office Machines      March    2009  90628.16\n",
       "Alberta          Office Machines      August   2012  55905.01\n",
       "Saskachewan      Office Machines      January  2009  50488.16\n",
       "Quebec           Office Machines      January  2009  45923.76\n",
       "                 Copiers and Fax      December 2009  44288.89\n",
       "...                                                       ...\n",
       "Alberta          Computer Peripherals April    2011     32.51\n",
       "Manitoba         Computer Peripherals February 2009     25.48\n",
       "British Columbia Office Machines      October  2011     25.07\n",
       "Nova Scotia      Computer Peripherals May      2010     24.96\n",
       "New Brunswick    Computer Peripherals June     2012     17.77\n",
       "\n",
       "[1064 rows x 1 columns]"
      ]
     },
     "execution_count": 31,
     "metadata": {},
     "output_type": "execute_result"
    }
   ],
   "source": [
    "filter_values = product_filter.groupby(['Province','Product Sub-Category','month','year'])['Sales'].sum().sort_values(ascending = False).to_frame()\n",
    "filter_values"
   ]
  },
  {
   "cell_type": "code",
   "execution_count": 32,
   "id": "ec2c04e1",
   "metadata": {},
   "outputs": [
    {
     "data": {
      "image/png": "[encoded data removed]",
      "text/plain": [
       "<Figure size 864x576 with 1 Axes>"
      ]
     },
     "metadata": {
      "needs_background": "light"
     },
     "output_type": "display_data"
    }
   ],
   "source": [
    "plt.figure(figsize=(12,8))\n",
    "plt.scatter(data['Total Cost'], data.Sales)\n",
    "# plt.scatter(product_filter.Sales, product_filter['Total Cost'])\n",
    "plt.show()"
   ]
  },
  {
   "cell_type": "code",
   "execution_count": 33,
   "id": "54ed5fec",
   "metadata": {},
   "outputs": [
    {
     "data": {
      "image/png": "[encoded data removed]",
      "text/plain": [
       "<Figure size 864x576 with 1 Axes>"
      ]
     },
     "metadata": {
      "needs_background": "light"
     },
     "output_type": "display_data"
    }
   ],
   "source": [
    "plt.figure(figsize=(12,8))\n",
    "plt.scatter(data['Order Quantity'], data.Sales)\n",
    "# plt.scatter(product_filter.Sales, product_filter['Total Cost'])\n",
    "plt.show()"
   ]
  },
  {
   "cell_type": "code",
   "execution_count": 34,
   "id": "70d2c070",
   "metadata": {},
   "outputs": [
    {
     "data": {
      "text/plain": [
       "<AxesSubplot:xlabel='Product Category', ylabel='Sales'>"
      ]
     },
     "execution_count": 34,
     "metadata": {},
     "output_type": "execute_result"
    },
    {
     "data": {
      "image/png": "[encoded data removed]",
      "text/plain": [
       "<Figure size 864x576 with 1 Axes>"
      ]
     },
     "metadata": {
      "needs_background": "light"
     },
     "output_type": "display_data"
    }
   ],
   "source": [
    "plt.figure(figsize=(12,8))\n",
    "sns.boxplot(x=data['Product Category'], y=data.Sales)\n"
   ]
  },
  {
   "cell_type": "code",
   "execution_count": 35,
   "id": "cb48c7bb",
   "metadata": {},
   "outputs": [],
   "source": [
    "yearly_frquency = data.groupby(['year','month'])['Sales'].sum().to_frame()\n",
    "\n",
    "# sns.lineplot(x= data.groupby('year').mean().index, y = df.groupby(df.index).mean()['gross income'])"
   ]
  },
  {
   "cell_type": "code",
   "execution_count": 36,
   "id": "361640e7",
   "metadata": {},
   "outputs": [
    {
     "data": {
      "text/plain": [
       "<AxesSubplot:>"
      ]
     },
     "execution_count": 36,
     "metadata": {},
     "output_type": "execute_result"
    },
    {
     "data": {
      "image/png": "[encoded data removed]",
      "text/plain": [
       "<Figure size 864x576 with 2 Axes>"
      ]
     },
     "metadata": {
      "needs_background": "light"
     },
     "output_type": "display_data"
    }
   ],
   "source": [
    "plt.figure(figsize=(12,8))\n",
    "\n",
    "sns.heatmap(np.round(data.corr(),2), annot=True)\n"
   ]
  },
  {
   "cell_type": "code",
   "execution_count": 37,
   "id": "caba0b6b",
   "metadata": {},
   "outputs": [
    {
     "data": {
      "image/png": "[encoded data removed]",
      "text/plain": [
       "<Figure size 864x576 with 1 Axes>"
      ]
     },
     "metadata": {
      "needs_background": "light"
     },
     "output_type": "display_data"
    }
   ],
   "source": [
    "plt.figure(figsize=(12,8))\n",
    "plt.scatter(data['Order Quantity'], data['Unit Price'])\n",
    "# plt.scatter(product_filter.Sales, product_filter['Total Cost'])\n",
    "plt.show()"
   ]
  },
  {
   "cell_type": "code",
   "execution_count": 38,
   "id": "1b5d2be1",
   "metadata": {},
   "outputs": [
    {
     "data": {
      "text/html": [
       "<div>\n",
       "<style scoped>\n",
       "    .dataframe tbody tr th:only-of-type {\n",
       "        vertical-align: middle;\n",
       "    }\n",
       "\n",
       "    .dataframe tbody tr th {\n",
       "        vertical-align: top;\n",
       "    }\n",
       "\n",
       "    .dataframe thead th {\n",
       "        text-align: right;\n",
       "    }\n",
       "</style>\n",
       "<table border=\"1\" class=\"dataframe\">\n",
       "  <thead>\n",
       "    <tr style=\"text-align: right;\">\n",
       "      <th></th>\n",
       "      <th>Order Quantity</th>\n",
       "      <th>Sales</th>\n",
       "      <th>Unit Price</th>\n",
       "      <th>Shipping Cost</th>\n",
       "      <th>Total Cost</th>\n",
       "      <th>year</th>\n",
       "    </tr>\n",
       "  </thead>\n",
       "  <tbody>\n",
       "    <tr>\n",
       "      <th>Order Quantity</th>\n",
       "      <td>1.000000</td>\n",
       "      <td>0.220475</td>\n",
       "      <td>-0.109008</td>\n",
       "      <td>-0.011461</td>\n",
       "      <td>0.219957</td>\n",
       "      <td>0.018569</td>\n",
       "    </tr>\n",
       "    <tr>\n",
       "      <th>Sales</th>\n",
       "      <td>0.220475</td>\n",
       "      <td>1.000000</td>\n",
       "      <td>0.607817</td>\n",
       "      <td>0.434652</td>\n",
       "      <td>0.999991</td>\n",
       "      <td>-0.015015</td>\n",
       "    </tr>\n",
       "    <tr>\n",
       "      <th>Unit Price</th>\n",
       "      <td>-0.109008</td>\n",
       "      <td>0.607817</td>\n",
       "      <td>1.000000</td>\n",
       "      <td>0.248408</td>\n",
       "      <td>0.607736</td>\n",
       "      <td>-0.016188</td>\n",
       "    </tr>\n",
       "    <tr>\n",
       "      <th>Shipping Cost</th>\n",
       "      <td>-0.011461</td>\n",
       "      <td>0.434652</td>\n",
       "      <td>0.248408</td>\n",
       "      <td>1.000000</td>\n",
       "      <td>0.438544</td>\n",
       "      <td>-0.007118</td>\n",
       "    </tr>\n",
       "    <tr>\n",
       "      <th>Total Cost</th>\n",
       "      <td>0.219957</td>\n",
       "      <td>0.999991</td>\n",
       "      <td>0.607736</td>\n",
       "      <td>0.438544</td>\n",
       "      <td>1.000000</td>\n",
       "      <td>-0.015018</td>\n",
       "    </tr>\n",
       "    <tr>\n",
       "      <th>year</th>\n",
       "      <td>0.018569</td>\n",
       "      <td>-0.015015</td>\n",
       "      <td>-0.016188</td>\n",
       "      <td>-0.007118</td>\n",
       "      <td>-0.015018</td>\n",
       "      <td>1.000000</td>\n",
       "    </tr>\n",
       "  </tbody>\n",
       "</table>\n",
       "</div>"
      ],
      "text/plain": [
       "                Order Quantity     Sales  Unit Price  Shipping Cost  \\\n",
       "Order Quantity        1.000000  0.220475   -0.109008      -0.011461   \n",
       "Sales                 0.220475  1.000000    0.607817       0.434652   \n",
       "Unit Price           -0.109008  0.607817    1.000000       0.248408   \n",
       "Shipping Cost        -0.011461  0.434652    0.248408       1.000000   \n",
       "Total Cost            0.219957  0.999991    0.607736       0.438544   \n",
       "year                  0.018569 -0.015015   -0.016188      -0.007118   \n",
       "\n",
       "                Total Cost      year  \n",
       "Order Quantity    0.219957  0.018569  \n",
       "Sales             0.999991 -0.015015  \n",
       "Unit Price        0.607736 -0.016188  \n",
       "Shipping Cost     0.438544 -0.007118  \n",
       "Total Cost        1.000000 -0.015018  \n",
       "year             -0.015018  1.000000  "
      ]
     },
     "execution_count": 38,
     "metadata": {},
     "output_type": "execute_result"
    }
   ],
   "source": [
    "data.corr()"
   ]
  },
  {
   "cell_type": "code",
   "execution_count": 39,
   "id": "0db9a892",
   "metadata": {},
   "outputs": [
    {
     "data": {
      "text/html": [
       "<div>\n",
       "<style scoped>\n",
       "    .dataframe tbody tr th:only-of-type {\n",
       "        vertical-align: middle;\n",
       "    }\n",
       "\n",
       "    .dataframe tbody tr th {\n",
       "        vertical-align: top;\n",
       "    }\n",
       "\n",
       "    .dataframe thead th {\n",
       "        text-align: right;\n",
       "    }\n",
       "</style>\n",
       "<table border=\"1\" class=\"dataframe\">\n",
       "  <thead>\n",
       "    <tr style=\"text-align: right;\">\n",
       "      <th></th>\n",
       "      <th>Sales</th>\n",
       "    </tr>\n",
       "    <tr>\n",
       "      <th>Customer Segment</th>\n",
       "      <th></th>\n",
       "    </tr>\n",
       "  </thead>\n",
       "  <tbody>\n",
       "    <tr>\n",
       "      <th>Corporate</th>\n",
       "      <td>2294748.71</td>\n",
       "    </tr>\n",
       "    <tr>\n",
       "      <th>Home Office</th>\n",
       "      <td>1318248.49</td>\n",
       "    </tr>\n",
       "    <tr>\n",
       "      <th>Consumer</th>\n",
       "      <td>1243421.69</td>\n",
       "    </tr>\n",
       "    <tr>\n",
       "      <th>Small Business</th>\n",
       "      <td>1126714.41</td>\n",
       "    </tr>\n",
       "  </tbody>\n",
       "</table>\n",
       "</div>"
      ],
      "text/plain": [
       "                       Sales\n",
       "Customer Segment            \n",
       "Corporate         2294748.71\n",
       "Home Office       1318248.49\n",
       "Consumer          1243421.69\n",
       "Small Business    1126714.41"
      ]
     },
     "execution_count": 39,
     "metadata": {},
     "output_type": "execute_result"
    }
   ],
   "source": [
    "filter_customer = product_filter.groupby(['Customer Segment'])['Sales'].sum().sort_values(ascending = False)\n",
    "filter_customer = filter_customer.to_frame()\n",
    "round(filter_customer, 2)"
   ]
  },
  {
   "cell_type": "code",
   "execution_count": 40,
   "id": "da96965a",
   "metadata": {},
   "outputs": [
    {
     "data": {
      "image/png": "[encoded data removed]",
      "text/plain": [
       "<Figure size 842.4x595.44 with 1 Axes>"
      ]
     },
     "metadata": {
      "needs_background": "light"
     },
     "output_type": "display_data"
    }
   ],
   "source": [
    "a4_dims = (11.7, 8.27)\n",
    "fig, ax = plt.subplots(figsize=a4_dims)\n",
    "\n",
    "sns.barplot(x = filter_customer['Sales'], y = filter_customer.index , data=filter_customer)\n",
    "plt.title(\"sub Category wise Sales\")\n",
    "plt.show()"
   ]
  },
  {
   "cell_type": "code",
   "execution_count": null,
   "id": "5b587983",
   "metadata": {},
   "outputs": [],
   "source": []
  },
  {
   "cell_type": "code",
   "execution_count": null,
   "id": "122eb040",
   "metadata": {},
   "outputs": [],
   "source": []
  }
 ],
 "metadata": {
  "kernelspec": {
   "display_name": "Python 3 (ipykernel)",
   "language": "python",
   "name": "python3"
  },
  "language_info": {
   "codemirror_mode": {
    "name": "ipython",
    "version": 3
   },
   "file_extension": ".py",
   "mimetype": "text/x-python",
   "name": "python",
   "nbconvert_exporter": "python",
   "pygments_lexer": "ipython3",
   "version": "3.9.6"
  }
 },
 "nbformat": 4,
 "nbformat_minor": 5
}
